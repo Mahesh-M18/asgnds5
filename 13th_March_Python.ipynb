{
 "cells": [
  {
   "cell_type": "markdown",
   "id": "77265f72-562c-4b06-9959-5c7ea0062bc2",
   "metadata": {},
   "source": [
    "Problem 1: Bank Account Create a class representing a bank account with attributes like account number, account holder name, and balance. Implement methods to deposit and withdraw money from the account.\n",
    "\n",
    "Problem 2: Employee Management Create a class representing an employee with attributes like employee ID, name, and salary. Implement methods to calculate the yearly bonus and display employee details.\n",
    "\n",
    "Problem 3: Vehicle Rental Create a class representing a vehicle rental system. Implement methods to rent a vehicle, return a vehicle, and display available vehicles.\n",
    "\n",
    "Problem 4: Library Catalog Create classes representing a library and a book. Implement methods to add books to the library, borrow books, and display available books.\n",
    "\n",
    "Problem 5: Product Inventory Create classes representing a product and an inventory system. Implement methods to add products to the inventory, update product quantity, and display available products.\n",
    "\n",
    "Problem 6: Shape Calculation Create a class representing a shape with attributes like length, width, and height. Implement methods to calculate the area and perimeter of the shape.\n",
    "\n",
    "Problem 7: Student Management Create a class representing a student with attributes like student ID, name, and grades. Implement methods to calculate the average grade and display student details.\n",
    "\n",
    "Problem 8: Email Management Create a class representing an email with attributes like sender, recipient, and subject. Implement methods to send an email and display email details.\n",
    "\n",
    "Problem 9: Social Media Profile Create a class representing a social media profile with attributes like username and posts. Implement methods to add posts, display posts, and search for posts by keyword.\n",
    "\n",
    "Problem 10: ToDo List Create a class representing a ToDo list with attributes like tasks and due dates. Implement methods to add tasks, mark tasks as completed, and display pending tasks."
   ]
  },
  {
   "cell_type": "markdown",
   "id": "be0107f0-c52e-4340-9155-1d8a93dc87b9",
   "metadata": {},
   "source": [
    "Problem 1: Bank Account Create a class representing a bank account with attributes like account number, account holder name, and balance. Implement methods to deposit and withdraw money from the account."
   ]
  },
  {
   "cell_type": "code",
   "execution_count": null,
   "id": "ad155eba-f9b1-403c-b3ea-b47b0f1860ee",
   "metadata": {},
   "outputs": [],
   "source": [
    "class bankaccount:\n",
    "    def __init__(self,acc_name,acc_num):\n",
    "        self.acc_name=acc_name\n",
    "        self.acc_num=acc_num\n",
    "        self.Balance=10000\n",
    "    def display(self):\n",
    "        print(\"Account holder Name : \",self.acc_name,\"\\nAccount Number : \",self.acc_num,\n",
    "              \"\\nAccount Balance : \",self.Balance)\n",
    "    def deposit(self,dep):\n",
    "        print(dep,\" Rupees is deposited to the Balance\")\n",
    "        print(\"Account holder Name : \",self.acc_name,\"\\nAccount Number : \",self.acc_num,\n",
    "              \"\\nAccount Balance : \",self.Balance+dep)\n",
    "    def withdraw(self,wth):\n",
    "        print(wth,\" Rupees is withdrawn from the Balance\")\n",
    "        print(\"Account holder Name : \",self.acc_name,\"\\nAccount Number : \",self.acc_num,\n",
    "              \"\\nAccount Balance : \",self.Balance-wth)"
   ]
  },
  {
   "cell_type": "markdown",
   "id": "c9f1a5e1-f338-4b1f-85a1-3e7b27a4823a",
   "metadata": {},
   "source": [
    "Problem 2: Employee Management Create a class representing an employee with attributes like employee ID, name, and salary. Implement methods to calculate the yearly bonus and display employee details."
   ]
  },
  {
   "cell_type": "code",
   "execution_count": null,
   "id": "5444a5e1-636f-410e-ac3b-cc24aa18d0f4",
   "metadata": {},
   "outputs": [],
   "source": [
    "class employee:\n",
    "    def __init__(self,emp_name,emp_id,salary):\n",
    "        self.emp_name=emp_name\n",
    "        self.emp_id=emp_id\n",
    "        self.salary=salary\n",
    "    def calculate_yearly_bonus(self, bonus_percentage):\n",
    "        bonus_amount=(bonus_percentage/100)*self.salary\n",
    "        return bonus_amount\n",
    "    def display_details(self):\n",
    "        print(\"Employee ID:\",self.emp_id)\n",
    "        print(\"Name:\",self.emp_name)\n",
    "        print(\"Salary:\",self.salary)"
   ]
  },
  {
   "cell_type": "markdown",
   "id": "4da581f9-9e63-41be-aa5e-343a8ff94a37",
   "metadata": {},
   "source": [
    "Problem 3: Vehicle Rental Create a class representing a vehicle rental system. Implement methods to rent a vehicle, return a vehicle, and display available vehicles."
   ]
  },
  {
   "cell_type": "code",
   "execution_count": null,
   "id": "da58e3c0-053f-4c36-ad29-4f6f948d14ec",
   "metadata": {},
   "outputs": [],
   "source": [
    "class rentvehicles():\n",
    "    def __init__(self,name,aadhar):\n",
    "        self.name=name\n",
    "        self.aadhar=aadhar\n",
    "        self.a=0\n",
    "    def rorr(self):\n",
    "        print(\"1.Display Vehicles to Rent\\n2.Return a Rented Vehicle\")\n",
    "        x=int(input(\"Enter Your Choice : \"))\n",
    "        if x==1:\n",
    "            print(\"\\nVehicles Available\")\n",
    "            print(\"1.CAR\\n2.BIKE\\n3.TEMPO\\n4.AUTO RICKSHAW\")\n",
    "        elif x==2:\n",
    "            print(\"Thank You for Returning the Vehicle\")\n",
    "        else:\n",
    "            print(\"Wrong Choice\")\n",
    "    def rent(self):\n",
    "        print(\"1.CAR\\n2.BIKE\\n3.TEMPO\\n4.AUTO RICKSHAW\")\n",
    "        self.a=int(input(\"Enter your choice : \\n\"))\n",
    "        if self.a==1:\n",
    "            print(self.name,\" will rent a Car\\nDetails : \",self.aadhar)\n",
    "        elif self.a==2:\n",
    "            print(self.name,\" will rent a Bike\\nDetails : \",self.aadhar)\n",
    "        elif self.a==3:\n",
    "            print(self.name,\" will rent a Tempo\\nDetails : \",self.aadhar)\n",
    "        elif self.a==4:\n",
    "            print(self.name,\" will rent a Auto Rickshaw\\nDetails : \",self.aadhar)\n",
    "        else:\n",
    "            print(\"Wrong Choice\")"
   ]
  },
  {
   "cell_type": "markdown",
   "id": "24495b67-a726-477a-a244-7e0a047313ec",
   "metadata": {},
   "source": [
    "Problem 4: Library Catalog Create classes representing a library and a book. Implement methods to add books to the library, borrow books, and display available books."
   ]
  },
  {
   "cell_type": "code",
   "execution_count": null,
   "id": "1ad85afc-0984-4f5e-a59e-95f82d4b4cfd",
   "metadata": {},
   "outputs": [],
   "source": [
    "class Book:\n",
    "    def __init__(self, title, author):\n",
    "        self.title = title\n",
    "        self.author = author\n",
    "        self.available = True\n",
    "        \n",
    "    def __str__(self):\n",
    "        return f\"{self.title} by {self.author}\"\n",
    "\n",
    "class Library():\n",
    "    def __init__(self):\n",
    "        self.books = []\n",
    "\n",
    "    def add_book(self, book):\n",
    "        self.books.append(book)\n",
    "\n",
    "    def display(self):\n",
    "        print(\"Available Books:\")\n",
    "        for book in self.books:\n",
    "            if book.available:\n",
    "                print(book)\n",
    "\n",
    "    def borrow_book(self, title):\n",
    "        for book in self.books:\n",
    "            if book.title == title and book.available:\n",
    "                book.available = False\n",
    "                print(f\"You have borrowed '{book.title}' by {book.author}.\")\n",
    "                return\n",
    "        print(\"Book not available\")"
   ]
  },
  {
   "cell_type": "markdown",
   "id": "5845368f-4081-4f5a-a9bf-5768ba807892",
   "metadata": {},
   "source": [
    "Problem 5: Product Inventory Create classes representing a product and an inventory system. Implement methods to add products to the inventory, update product quantity, and display available products."
   ]
  },
  {
   "cell_type": "code",
   "execution_count": null,
   "id": "edb02dc6-9252-4a77-a495-a9bd826031a6",
   "metadata": {},
   "outputs": [],
   "source": [
    "class Product:\n",
    "    def __init__(self,p,q):\n",
    "        self.product=p\n",
    "        self.quantity=q\n",
    "    def __str__(self):\n",
    "        return f\"{self.quantity} no of {self.product}\"\n",
    "class Inventory:\n",
    "    def __init__(self):\n",
    "        self.inventory=[]\n",
    "    def add_product(self,Product):\n",
    "        self.inventory.append(Product)\n",
    "    def update_quantity(self,pname,newq):\n",
    "        for i in self.inventory:\n",
    "            if i.product==pname:\n",
    "                i.quantity=newq\n",
    "                print(f\"Quantity for {pname} updated to {newq}.\")\n",
    "    def display(self):\n",
    "        print(\"Available Products\")\n",
    "        for product in self.inventory:\n",
    "            print(product)"
   ]
  },
  {
   "cell_type": "markdown",
   "id": "2724f342-19b2-4951-a518-ce03d26bb8d1",
   "metadata": {},
   "source": [
    "Problem 6: Shape Calculation Create a class representing a shape with attributes like length, width, and height. Implement methods to calculate the area and perimeter of the shape."
   ]
  },
  {
   "cell_type": "code",
   "execution_count": null,
   "id": "724ba0b7-7f13-4874-b06d-f7f067e3eb39",
   "metadata": {},
   "outputs": [],
   "source": [
    "class Shape:\n",
    "    def __init__(self, length, width, height):\n",
    "        self.length = length\n",
    "        self.width = width\n",
    "        self.height = height\n",
    "        \n",
    "class Rectangle(Shape):\n",
    "    def area(self):\n",
    "        return self.length * self.width\n",
    "\n",
    "    def perimeter(self):\n",
    "        return 2 * (self.length + self.width)\n",
    "\n",
    "\n",
    "class Triangle(Shape):\n",
    "    def area(self):\n",
    "        s = (self.length + self.width + self.height) / 2\n",
    "        return (s * (s - self.length) * (s - self.width) * (s - self.height)) ** 0.5\n",
    "\n",
    "    def perimeter(self):\n",
    "        return self.length + self.width + self.height"
   ]
  },
  {
   "cell_type": "markdown",
   "id": "ab42ceb8-8e40-4d04-a938-cfe99c44bafc",
   "metadata": {},
   "source": [
    "Problem 7: Student Management Create a class representing a student with attributes like student ID, name, and grades. Implement methods to calculate the average grade and display student details."
   ]
  },
  {
   "cell_type": "code",
   "execution_count": null,
   "id": "bd336be5-44e5-40b9-8d34-45b89eac79e1",
   "metadata": {},
   "outputs": [],
   "source": [
    "class Student:\n",
    "    def __init__(self,name,sid,*grades):\n",
    "        self.name=name\n",
    "        self.sid=sid\n",
    "        self.grades=grades\n",
    "    def gradecal(self):\n",
    "        return sum(self.grades)/len(self.grades)\n",
    "    def display(self):\n",
    "        print(\"Student Name : \",self.name)\n",
    "        print(\"Student Id : \",self.sid)\n",
    "        print(\"Average Grade : \",self.gradecal())"
   ]
  },
  {
   "cell_type": "markdown",
   "id": "1b7e9301-24f0-45cb-97bd-880f8c4524ea",
   "metadata": {},
   "source": [
    "Problem 8: Email Management Create a class representing an email with attributes like sender, recipient, and subject. Implement methods to send an email and display email details."
   ]
  },
  {
   "cell_type": "code",
   "execution_count": 31,
   "id": "9063487c-86df-4028-8a29-e6f22f789b03",
   "metadata": {},
   "outputs": [],
   "source": [
    "class Email:\n",
    "    def __init__(self, sender, recipient, subject, body):\n",
    "        self.sender = sender\n",
    "        self.recipient = recipient\n",
    "        self.subject = subject\n",
    "        self.body = body\n",
    "\n",
    "    def send_email(self):\n",
    "        print(\"Email sent from:\", self.sender)\n",
    "        print(\"Email sent to:\", self.recipient)\n",
    "        print(\"Subject:\", self.subject)\n",
    "        print(\"Body:\", self.body)\n",
    "        print(\"Email sent successfully!\")\n",
    "\n",
    "    def display(self):\n",
    "        print(\"Sender:\", self.sender)\n",
    "        print(\"Recipient:\", self.recipient)\n",
    "        print(\"Subject:\", self.subject)\n",
    "        print(\"Body:\", self.body)"
   ]
  },
  {
   "cell_type": "markdown",
   "id": "58352cf4-71de-47c1-9f92-3c4ed5e9e679",
   "metadata": {},
   "source": [
    "Problem 9: Social Media Profile Create a class representing a social media profile with attributes like username and posts. Implement methods to add posts, display posts, and search for posts by keyword."
   ]
  },
  {
   "cell_type": "code",
   "execution_count": 47,
   "id": "0cd2494a-5551-4383-8859-6e58f941dc67",
   "metadata": {},
   "outputs": [],
   "source": [
    "class SocialMediaProfile:\n",
    "    def __init__(self, username):\n",
    "        self.username = username\n",
    "        self.posts = []\n",
    "\n",
    "    def add_post(self, post):\n",
    "        self.posts.append(post)\n",
    "\n",
    "    def display_posts(self):\n",
    "        print(f\"Posts by {self.username}:\")\n",
    "        for i in self.posts:\n",
    "            print(i)\n",
    "\n",
    "    def search_posts_by_keyword(self, keyword):\n",
    "        matching_posts = [i for i in self.posts if keyword in i]\n",
    "        if matching_posts:\n",
    "            print(f\"Posts containing '{keyword}' by {self.username}:\")\n",
    "            for i in matching_posts:\n",
    "                print(i)\n",
    "        else:\n",
    "            print(f\"No posts containing '{keyword}' found for {self.username}.\")\n"
   ]
  },
  {
   "cell_type": "markdown",
   "id": "37cd3bc7-c474-4c04-aaa3-2aaaa7b16bb2",
   "metadata": {},
   "source": [
    "Problem 10: ToDo List Create a class representing a ToDo list with attributes like tasks and due dates. Implement methods to add tasks, mark tasks as completed, and display pending tasks."
   ]
  },
  {
   "cell_type": "code",
   "execution_count": 49,
   "id": "c4fc5809-b9e7-45c5-b741-a8ded3af4e4a",
   "metadata": {},
   "outputs": [],
   "source": [
    "class ToDoList:\n",
    "    def __init__(self):\n",
    "        self.tasks = {}\n",
    "\n",
    "    def add_task(self, task, due_date):\n",
    "        self.tasks[task] = due_date\n",
    "\n",
    "    def mark_task_completed(self, task):\n",
    "        if task in self.tasks:\n",
    "            del self.tasks[task]\n",
    "            print(f\"Task '{task}' marked as completed.\")\n",
    "        else:\n",
    "            print(f\"Task '{task}' not found in the ToDo list.\")\n",
    "\n",
    "    def display_pending_tasks(self):\n",
    "        if self.tasks:\n",
    "            print(\"Pending Tasks:\")\n",
    "            for task, due_date in self.tasks.items():\n",
    "                print(f\"Task: {task}, Due Date: {due_date}\")\n",
    "        else:\n",
    "            print(\"No pending tasks in the ToDo list.\")"
   ]
  },
  {
   "cell_type": "code",
   "execution_count": 50,
   "id": "6da77910-ca4d-4c0c-85fd-600d7a30ab7a",
   "metadata": {},
   "outputs": [
    {
     "name": "stdout",
     "output_type": "stream",
     "text": [
      "Pending Tasks:\n",
      "Task: Finish project report, Due Date: 2024-03-15\n",
      "Task: Buy groceries, Due Date: 2024-03-16\n",
      "Task: Call mom, Due Date: 2024-03-17\n",
      "\n",
      "Marking task 'Finish project report' as completed.\n",
      "Task 'Finish project report' marked as completed.\n",
      "Pending Tasks:\n",
      "Task: Buy groceries, Due Date: 2024-03-16\n",
      "Task: Call mom, Due Date: 2024-03-17\n"
     ]
    }
   ],
   "source": []
  },
  {
   "cell_type": "code",
   "execution_count": null,
   "id": "9e07c2c5-2a79-4f19-b490-cc2a1e3c0225",
   "metadata": {},
   "outputs": [],
   "source": []
  },
  {
   "cell_type": "code",
   "execution_count": null,
   "id": "ef01f975-6749-4774-93d4-85cb60a8a758",
   "metadata": {},
   "outputs": [],
   "source": []
  },
  {
   "cell_type": "code",
   "execution_count": null,
   "id": "848943e0-4543-4768-a7be-c0f19b74b5cb",
   "metadata": {},
   "outputs": [],
   "source": []
  },
  {
   "cell_type": "code",
   "execution_count": null,
   "id": "7844b6d8-abf4-4950-b9d4-8360f6e9bc4a",
   "metadata": {},
   "outputs": [],
   "source": []
  },
  {
   "cell_type": "code",
   "execution_count": null,
   "id": "b81e97b5-5391-487f-946d-35faa60b1c8a",
   "metadata": {},
   "outputs": [],
   "source": []
  },
  {
   "cell_type": "code",
   "execution_count": null,
   "id": "126e30d0-154d-419d-9269-4980d613989e",
   "metadata": {},
   "outputs": [],
   "source": []
  },
  {
   "cell_type": "code",
   "execution_count": null,
   "id": "c43f072a-c5ef-4ba2-bac5-37844920251d",
   "metadata": {},
   "outputs": [],
   "source": []
  },
  {
   "cell_type": "code",
   "execution_count": null,
   "id": "6e662ca0-88ad-47f4-bb13-6e0114e8bcb2",
   "metadata": {},
   "outputs": [],
   "source": []
  },
  {
   "cell_type": "code",
   "execution_count": null,
   "id": "88c9fc49-839e-4735-a71b-c5f82d9fa544",
   "metadata": {},
   "outputs": [],
   "source": []
  },
  {
   "cell_type": "code",
   "execution_count": null,
   "id": "1554c354-e3e2-4ee1-9721-c9efc49b5b47",
   "metadata": {},
   "outputs": [],
   "source": []
  },
  {
   "cell_type": "code",
   "execution_count": null,
   "id": "a1a44119-a829-498a-aff2-2e3aa1c24396",
   "metadata": {},
   "outputs": [],
   "source": []
  },
  {
   "cell_type": "code",
   "execution_count": null,
   "id": "ab016a66-aa48-4986-af09-34fab61c977b",
   "metadata": {},
   "outputs": [],
   "source": []
  },
  {
   "cell_type": "code",
   "execution_count": null,
   "id": "464cdf07-09f1-48fd-89ad-0e0cd8c874de",
   "metadata": {},
   "outputs": [],
   "source": []
  }
 ],
 "metadata": {
  "kernelspec": {
   "display_name": "Python 3 (ipykernel)",
   "language": "python",
   "name": "python3"
  },
  "language_info": {
   "codemirror_mode": {
    "name": "ipython",
    "version": 3
   },
   "file_extension": ".py",
   "mimetype": "text/x-python",
   "name": "python",
   "nbconvert_exporter": "python",
   "pygments_lexer": "ipython3",
   "version": "3.10.8"
  }
 },
 "nbformat": 4,
 "nbformat_minor": 5
}
